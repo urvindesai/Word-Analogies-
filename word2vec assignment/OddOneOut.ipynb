{
 "cells": [
  {
   "cell_type": "code",
   "execution_count": 1,
   "metadata": {
    "_cell_guid": "b1076dfc-b9ad-4769-8c92-a6c4dae69d19",
    "_uuid": "8f2839f25d086af736a60e9eeb907d3b93b6e0e5"
   },
   "outputs": [
    {
     "name": "stdout",
     "output_type": "stream",
     "text": [
      "/kaggle/input/googlenewsvectorsnegative300/GoogleNews-vectors-negative300.bin\n"
     ]
    }
   ],
   "source": [
    "# This Python 3 environment comes with many helpful analytics libraries installed\n",
    "# It is defined by the kaggle/python Docker image: https://github.com/kaggle/docker-python\n",
    "# For example, here's several helpful packages to load\n",
    "\n",
    "import numpy as np # linear algebra\n",
    "import pandas as pd # data processing, CSV file I/O (e.g. pd.read_csv)\n",
    "\n",
    "# Input data files are available in the read-only \"../input/\" directory\n",
    "# For example, running this (by clicking run or pressing Shift+Enter) will list all files under the input directory\n",
    "\n",
    "import os\n",
    "for dirname, _, filenames in os.walk('/kaggle/input'):\n",
    "    for filename in filenames:\n",
    "        print(os.path.join(dirname, filename))\n",
    "\n",
    "# You can write up to 5GB to the current directory (/kaggle/working/) that gets preserved as output when you create a version using \"Save & Run All\" \n",
    "# You can also write temporary files to /kaggle/temp/, but they won't be saved outside of the current session"
   ]
  },
  {
   "cell_type": "code",
   "execution_count": 2,
   "metadata": {
    "_cell_guid": "79c7e3d0-c299-4dcb-8224-4455121ee9b0",
    "_uuid": "d629ff2d2480ee46fbb7e2d37f6b5fab8052498a"
   },
   "outputs": [],
   "source": [
    "import gensim\n",
    "from gensim.models import word2vec\n",
    "from gensim.models import KeyedVectors\n",
    "from sklearn.metrics.pairwise import cosine_similarity"
   ]
  },
  {
   "cell_type": "code",
   "execution_count": 3,
   "metadata": {},
   "outputs": [],
   "source": [
    "word_vectors = KeyedVectors.load_word2vec_format('../input/googlenewsvectorsnegative300/GoogleNews-vectors-negative300.bin',binary=True)"
   ]
  },
  {
   "cell_type": "code",
   "execution_count": 4,
   "metadata": {},
   "outputs": [
    {
     "data": {
      "text/plain": [
       "dict"
      ]
     },
     "execution_count": 4,
     "metadata": {},
     "output_type": "execute_result"
    }
   ],
   "source": [
    "type(word_vectors.vocab)"
   ]
  },
  {
   "cell_type": "code",
   "execution_count": 5,
   "metadata": {},
   "outputs": [],
   "source": [
    "v_cricket = word_vectors['cricket']\n",
    "v_car = word_vectors['car']"
   ]
  },
  {
   "cell_type": "code",
   "execution_count": 6,
   "metadata": {},
   "outputs": [
    {
     "name": "stdout",
     "output_type": "stream",
     "text": [
      "(300,)\n",
      "(300,)\n"
     ]
    }
   ],
   "source": [
    "print(v_cricket.shape)\n",
    "print(v_car.shape)"
   ]
  },
  {
   "cell_type": "code",
   "execution_count": 7,
   "metadata": {},
   "outputs": [
    {
     "data": {
      "text/plain": [
       "array([[0.08744669]], dtype=float32)"
      ]
     },
     "execution_count": 7,
     "metadata": {},
     "output_type": "execute_result"
    }
   ],
   "source": [
    "cosine_similarity([v_cricket],[v_car])"
   ]
  },
  {
   "cell_type": "code",
   "execution_count": 8,
   "metadata": {},
   "outputs": [],
   "source": [
    "def odd_one_out(words):\n",
    "    \n",
    "    all_words_vectors = [word_vectors[w] for w in words]\n",
    "    avg_vector = np.mean(all_words_vectors , axis = 0)\n",
    "    print(avg_vector.shape)\n",
    "    \n",
    "    odd_one_out = None\n",
    "    min_similarity = 1.0\n",
    "    \n",
    "    for w in words:\n",
    "        sim = cosine_similarity([word_vectors[w]] , [avg_vector])\n",
    "        if sim < min_similarity:\n",
    "            min_similarity = sim\n",
    "            odd_one_out = w\n",
    "            \n",
    "        print(\"Similairy btw %s and avg vector is %.2f\"%(w,sim))\n",
    "            \n",
    "    return odd_one_out"
   ]
  },
  {
   "cell_type": "code",
   "execution_count": 9,
   "metadata": {},
   "outputs": [],
   "source": [
    "input_1 = [\"apple\",\"mango\",\"juice\",\"party\",\"orange\"] \n",
    "input_2 = [\"music\",\"dance\",\"sleep\",\"dancer\",\"food\"]        \n",
    "input_3  = [\"match\",\"player\",\"football\",\"cricket\",\"dancer\"]\n",
    "input_4 = [\"india\",\"paris\",\"russia\",\"france\",\"germany\"]"
   ]
  },
  {
   "cell_type": "code",
   "execution_count": 10,
   "metadata": {},
   "outputs": [
    {
     "name": "stdout",
     "output_type": "stream",
     "text": [
      "(300,)\n",
      "Similairy btw apple and avg vector is 0.78\n",
      "Similairy btw mango and avg vector is 0.76\n",
      "Similairy btw juice and avg vector is 0.71\n",
      "Similairy btw party and avg vector is 0.36\n",
      "Similairy btw orange and avg vector is 0.65\n"
     ]
    },
    {
     "data": {
      "text/plain": [
       "'party'"
      ]
     },
     "execution_count": 10,
     "metadata": {},
     "output_type": "execute_result"
    }
   ],
   "source": [
    "odd_one_out(input_1) "
   ]
  },
  {
   "cell_type": "code",
   "execution_count": 11,
   "metadata": {},
   "outputs": [
    {
     "name": "stdout",
     "output_type": "stream",
     "text": [
      "(300,)\n",
      "Similairy btw music and avg vector is 0.66\n",
      "Similairy btw dance and avg vector is 0.81\n",
      "Similairy btw sleep and avg vector is 0.51\n",
      "Similairy btw dancer and avg vector is 0.72\n",
      "Similairy btw food and avg vector is 0.52\n"
     ]
    },
    {
     "data": {
      "text/plain": [
       "'sleep'"
      ]
     },
     "execution_count": 11,
     "metadata": {},
     "output_type": "execute_result"
    }
   ],
   "source": [
    "odd_one_out(input_2) "
   ]
  },
  {
   "cell_type": "code",
   "execution_count": 12,
   "metadata": {},
   "outputs": [
    {
     "name": "stdout",
     "output_type": "stream",
     "text": [
      "(300,)\n",
      "Similairy btw match and avg vector is 0.58\n",
      "Similairy btw player and avg vector is 0.68\n",
      "Similairy btw football and avg vector is 0.72\n",
      "Similairy btw cricket and avg vector is 0.70\n",
      "Similairy btw dancer and avg vector is 0.53\n"
     ]
    },
    {
     "data": {
      "text/plain": [
       "'dancer'"
      ]
     },
     "execution_count": 12,
     "metadata": {},
     "output_type": "execute_result"
    }
   ],
   "source": [
    "odd_one_out(input_3) "
   ]
  },
  {
   "cell_type": "code",
   "execution_count": 13,
   "metadata": {},
   "outputs": [
    {
     "name": "stdout",
     "output_type": "stream",
     "text": [
      "(300,)\n",
      "Similairy btw india and avg vector is 0.81\n",
      "Similairy btw paris and avg vector is 0.75\n",
      "Similairy btw russia and avg vector is 0.79\n",
      "Similairy btw france and avg vector is 0.81\n",
      "Similairy btw germany and avg vector is 0.84\n"
     ]
    },
    {
     "data": {
      "text/plain": [
       "'paris'"
      ]
     },
     "execution_count": 13,
     "metadata": {},
     "output_type": "execute_result"
    }
   ],
   "source": [
    "odd_one_out(input_4) "
   ]
  },
  {
   "cell_type": "markdown",
   "metadata": {},
   "source": [
    "Word Analogies"
   ]
  },
  {
   "cell_type": "code",
   "execution_count": 14,
   "metadata": {},
   "outputs": [],
   "source": [
    "def predict_word(a,b,c,word_vectors):\n",
    "    \"\"\"Accepts a triad of words, a,b,c and returns d such that a is to b : c is to d\"\"\"\n",
    "    a,b,c = a.lower(),b.lower(),c.lower()\n",
    "    \n",
    "    # similarity |b-a| = |d-c| should be max\n",
    "    max_similarity = -100 \n",
    "    \n",
    "    d = None\n",
    "    \n",
    "    words = word_vectors.vocab.keys()\n",
    "    \n",
    "    wa,wb,wc = word_vectors[a],word_vectors[b],word_vectors[c]\n",
    "    \n",
    "    #to find d s.t similarity(|b-a|,|d-c|) should be max\n",
    "    \n",
    "    for w in words:\n",
    "        if w in [a,b,c]:\n",
    "            continue\n",
    "        \n",
    "        wv = word_vectors[w]\n",
    "        sim = cosine_similarity([wb-wa],[wv-wc])\n",
    "        \n",
    "        if sim > max_similarity:\n",
    "            max_similarity = sim\n",
    "            d = w\n",
    "            \n",
    "    return d    "
   ]
  },
  {
   "cell_type": "code",
   "execution_count": 15,
   "metadata": {},
   "outputs": [
    {
     "data": {
      "text/plain": [
       "[('queen', 0.7118192911148071)]"
      ]
     },
     "execution_count": 15,
     "metadata": {},
     "output_type": "execute_result"
    }
   ],
   "source": [
    "word_vectors.most_similar(positive=['woman', 'king'], negative=['man'], topn=1)"
   ]
  },
  {
   "cell_type": "code",
   "execution_count": 17,
   "metadata": {},
   "outputs": [
    {
     "data": {
      "text/plain": [
       "'princess'"
      ]
     },
     "execution_count": 17,
     "metadata": {},
     "output_type": "execute_result"
    }
   ],
   "source": [
    "triad_2 = (\"man\",\"woman\",\"prince\")\n",
    "predict_word(*triad_2,word_vectors)"
   ]
  },
  {
   "cell_type": "code",
   "execution_count": 18,
   "metadata": {},
   "outputs": [],
   "source": [
    "df = pd.read_csv('../input/test-dataset/Test.csv')"
   ]
  },
  {
   "cell_type": "code",
   "execution_count": 19,
   "metadata": {},
   "outputs": [
    {
     "data": {
      "text/html": [
       "<div>\n",
       "<style scoped>\n",
       "    .dataframe tbody tr th:only-of-type {\n",
       "        vertical-align: middle;\n",
       "    }\n",
       "\n",
       "    .dataframe tbody tr th {\n",
       "        vertical-align: top;\n",
       "    }\n",
       "\n",
       "    .dataframe thead th {\n",
       "        text-align: right;\n",
       "    }\n",
       "</style>\n",
       "<table border=\"1\" class=\"dataframe\">\n",
       "  <thead>\n",
       "    <tr style=\"text-align: right;\">\n",
       "      <th></th>\n",
       "      <th>Word1</th>\n",
       "      <th>Word2</th>\n",
       "      <th>Word3</th>\n",
       "      <th>Word4</th>\n",
       "      <th>Word5</th>\n",
       "    </tr>\n",
       "  </thead>\n",
       "  <tbody>\n",
       "    <tr>\n",
       "      <th>0</th>\n",
       "      <td>elephant</td>\n",
       "      <td>lion</td>\n",
       "      <td>tiger</td>\n",
       "      <td>goat</td>\n",
       "      <td>snake</td>\n",
       "    </tr>\n",
       "    <tr>\n",
       "      <th>1</th>\n",
       "      <td>man</td>\n",
       "      <td>policeman</td>\n",
       "      <td>fireman</td>\n",
       "      <td>teacher</td>\n",
       "      <td>postman</td>\n",
       "    </tr>\n",
       "    <tr>\n",
       "      <th>2</th>\n",
       "      <td>plane</td>\n",
       "      <td>bird</td>\n",
       "      <td>rocket</td>\n",
       "      <td>balloon</td>\n",
       "      <td>cat</td>\n",
       "    </tr>\n",
       "    <tr>\n",
       "      <th>3</th>\n",
       "      <td>onion</td>\n",
       "      <td>celery</td>\n",
       "      <td>lettuce</td>\n",
       "      <td>pineapple</td>\n",
       "      <td>potato</td>\n",
       "    </tr>\n",
       "    <tr>\n",
       "      <th>4</th>\n",
       "      <td>India</td>\n",
       "      <td>football</td>\n",
       "      <td>hockey</td>\n",
       "      <td>cricket</td>\n",
       "      <td>swimming</td>\n",
       "    </tr>\n",
       "    <tr>\n",
       "      <th>5</th>\n",
       "      <td>who</td>\n",
       "      <td>why</td>\n",
       "      <td>what</td>\n",
       "      <td>where</td>\n",
       "      <td>is</td>\n",
       "    </tr>\n",
       "    <tr>\n",
       "      <th>6</th>\n",
       "      <td>on</td>\n",
       "      <td>in</td>\n",
       "      <td>over</td>\n",
       "      <td>their</td>\n",
       "      <td>was</td>\n",
       "    </tr>\n",
       "    <tr>\n",
       "      <th>7</th>\n",
       "      <td>India</td>\n",
       "      <td>Australia</td>\n",
       "      <td>Japan</td>\n",
       "      <td>Russia</td>\n",
       "      <td>China</td>\n",
       "    </tr>\n",
       "    <tr>\n",
       "      <th>8</th>\n",
       "      <td>Dollar</td>\n",
       "      <td>Rupees</td>\n",
       "      <td>Euros</td>\n",
       "      <td>Cents</td>\n",
       "      <td>Money</td>\n",
       "    </tr>\n",
       "    <tr>\n",
       "      <th>9</th>\n",
       "      <td>eat</td>\n",
       "      <td>sleep</td>\n",
       "      <td>drink</td>\n",
       "      <td>think</td>\n",
       "      <td>dance</td>\n",
       "    </tr>\n",
       "    <tr>\n",
       "      <th>10</th>\n",
       "      <td>car</td>\n",
       "      <td>scooter</td>\n",
       "      <td>bike</td>\n",
       "      <td>bicycle</td>\n",
       "      <td>ship</td>\n",
       "    </tr>\n",
       "    <tr>\n",
       "      <th>11</th>\n",
       "      <td>Poland</td>\n",
       "      <td>Russia</td>\n",
       "      <td>England</td>\n",
       "      <td>Rome</td>\n",
       "      <td>Ukraine</td>\n",
       "    </tr>\n",
       "    <tr>\n",
       "      <th>12</th>\n",
       "      <td>Lake</td>\n",
       "      <td>Sea</td>\n",
       "      <td>River</td>\n",
       "      <td>Pool</td>\n",
       "      <td>Pond</td>\n",
       "    </tr>\n",
       "    <tr>\n",
       "      <th>13</th>\n",
       "      <td>Sun</td>\n",
       "      <td>Moon</td>\n",
       "      <td>Star</td>\n",
       "      <td>Mars</td>\n",
       "      <td>Egypt</td>\n",
       "    </tr>\n",
       "    <tr>\n",
       "      <th>14</th>\n",
       "      <td>fox</td>\n",
       "      <td>wolf</td>\n",
       "      <td>jackal</td>\n",
       "      <td>mouse</td>\n",
       "      <td>panther</td>\n",
       "    </tr>\n",
       "    <tr>\n",
       "      <th>15</th>\n",
       "      <td>veil</td>\n",
       "      <td>turban</td>\n",
       "      <td>helmet</td>\n",
       "      <td>shirt</td>\n",
       "      <td>hat</td>\n",
       "    </tr>\n",
       "    <tr>\n",
       "      <th>16</th>\n",
       "      <td>Physics</td>\n",
       "      <td>Chemistry</td>\n",
       "      <td>Geography</td>\n",
       "      <td>Botany</td>\n",
       "      <td>Universe</td>\n",
       "    </tr>\n",
       "    <tr>\n",
       "      <th>17</th>\n",
       "      <td>Assassinate</td>\n",
       "      <td>Kill</td>\n",
       "      <td>Kidnap</td>\n",
       "      <td>Stab</td>\n",
       "      <td>Murder</td>\n",
       "    </tr>\n",
       "    <tr>\n",
       "      <th>18</th>\n",
       "      <td>Hostel</td>\n",
       "      <td>Hotel</td>\n",
       "      <td>Inn</td>\n",
       "      <td>Club</td>\n",
       "      <td>Motel</td>\n",
       "    </tr>\n",
       "    <tr>\n",
       "      <th>19</th>\n",
       "      <td>Earth</td>\n",
       "      <td>Mars</td>\n",
       "      <td>Neptune</td>\n",
       "      <td>Pluto</td>\n",
       "      <td>Sun</td>\n",
       "    </tr>\n",
       "  </tbody>\n",
       "</table>\n",
       "</div>"
      ],
      "text/plain": [
       "          Word1      Word2      Word3      Word4     Word5\n",
       "0      elephant       lion      tiger       goat     snake\n",
       "1           man  policeman    fireman    teacher   postman\n",
       "2         plane       bird     rocket    balloon       cat\n",
       "3         onion     celery    lettuce  pineapple    potato\n",
       "4         India   football     hockey    cricket  swimming\n",
       "5           who        why       what      where        is\n",
       "6            on         in       over      their       was\n",
       "7         India  Australia      Japan     Russia     China\n",
       "8        Dollar     Rupees      Euros      Cents     Money\n",
       "9           eat      sleep      drink      think     dance\n",
       "10          car    scooter       bike    bicycle      ship\n",
       "11       Poland     Russia    England       Rome   Ukraine\n",
       "12         Lake        Sea      River       Pool      Pond\n",
       "13          Sun       Moon       Star       Mars     Egypt\n",
       "14          fox       wolf     jackal      mouse   panther\n",
       "15         veil     turban     helmet      shirt       hat\n",
       "16      Physics  Chemistry  Geography     Botany  Universe\n",
       "17  Assassinate       Kill     Kidnap       Stab    Murder\n",
       "18       Hostel      Hotel        Inn       Club     Motel\n",
       "19        Earth       Mars    Neptune      Pluto       Sun"
      ]
     },
     "execution_count": 19,
     "metadata": {},
     "output_type": "execute_result"
    }
   ],
   "source": [
    "df"
   ]
  },
  {
   "cell_type": "code",
   "execution_count": 28,
   "metadata": {},
   "outputs": [
    {
     "name": "stdout",
     "output_type": "stream",
     "text": [
      "(20, 5)\n"
     ]
    }
   ],
   "source": [
    "lst = []\n",
    "\n",
    "print(df.shape)\n",
    "\n",
    "l = df.shape[0]\n",
    "for i in range(l):\n",
    "    lst.append(df.loc[i , \"Word1\":\"Word5\"])\n",
    "\n"
   ]
  },
  {
   "cell_type": "code",
   "execution_count": 30,
   "metadata": {},
   "outputs": [
    {
     "name": "stdout",
     "output_type": "stream",
     "text": [
      "elephant  \n",
      "lion  \n",
      "tiger  \n",
      "goat  \n",
      "snake  \n",
      "\n",
      "\n",
      "man  \n",
      "policeman  \n",
      "fireman  \n",
      "teacher  \n",
      "postman  \n",
      "\n",
      "\n",
      "plane  \n",
      "bird  \n",
      "rocket  \n",
      "balloon  \n",
      "cat  \n",
      "\n",
      "\n",
      "onion  \n",
      "celery  \n",
      "lettuce  \n",
      "pineapple  \n",
      "potato  \n",
      "\n",
      "\n",
      "India  \n",
      "football  \n",
      "hockey  \n",
      "cricket  \n",
      "swimming  \n",
      "\n",
      "\n",
      "who  \n",
      "why  \n",
      "what  \n",
      "where  \n",
      "is  \n",
      "\n",
      "\n",
      "on  \n",
      "in  \n",
      "over  \n",
      "their  \n",
      "was  \n",
      "\n",
      "\n",
      "India  \n",
      "Australia  \n",
      "Japan  \n",
      "Russia  \n",
      "China  \n",
      "\n",
      "\n",
      "Dollar  \n",
      "Rupees  \n",
      "Euros  \n",
      "Cents  \n",
      "Money  \n",
      "\n",
      "\n",
      "eat  \n",
      "sleep  \n",
      "drink  \n",
      "think  \n",
      "dance  \n",
      "\n",
      "\n",
      "car  \n",
      "scooter  \n",
      "bike  \n",
      "bicycle  \n",
      "ship  \n",
      "\n",
      "\n",
      "Poland  \n",
      "Russia  \n",
      "England  \n",
      "Rome  \n",
      "Ukraine  \n",
      "\n",
      "\n",
      "Lake  \n",
      "Sea  \n",
      "River  \n",
      "Pool  \n",
      "Pond  \n",
      "\n",
      "\n",
      "Sun  \n",
      "Moon  \n",
      "Star  \n",
      "Mars  \n",
      "Egypt  \n",
      "\n",
      "\n",
      "fox  \n",
      "wolf  \n",
      "jackal  \n",
      "mouse  \n",
      "panther  \n",
      "\n",
      "\n",
      "veil  \n",
      "turban  \n",
      "helmet  \n",
      "shirt  \n",
      "hat  \n",
      "\n",
      "\n",
      "Physics  \n",
      "Chemistry  \n",
      "Geography  \n",
      "Botany  \n",
      "Universe  \n",
      "\n",
      "\n",
      "Assassinate  \n",
      "Kill  \n",
      "Kidnap  \n",
      "Stab  \n",
      "Murder  \n",
      "\n",
      "\n",
      "Hostel  \n",
      "Hotel  \n",
      "Inn  \n",
      "Club  \n",
      "Motel  \n",
      "\n",
      "\n",
      "Earth  \n",
      "Mars  \n",
      "Neptune  \n",
      "Pluto  \n",
      "Sun  \n",
      "\n",
      "\n"
     ]
    }
   ],
   "source": [
    "for items in lst:\n",
    "    for item in items:\n",
    "        print(item , \" \")\n",
    "    print(\"\\n\")"
   ]
  },
  {
   "cell_type": "code",
   "execution_count": 32,
   "metadata": {},
   "outputs": [
    {
     "name": "stdout",
     "output_type": "stream",
     "text": [
      "(300,)\n",
      "Similairy btw elephant and avg vector is 0.84\n",
      "Similairy btw lion and avg vector is 0.74\n",
      "Similairy btw tiger and avg vector is 0.83\n",
      "Similairy btw goat and avg vector is 0.73\n",
      "Similairy btw snake and avg vector is 0.73\n",
      "(300,)\n",
      "Similairy btw man and avg vector is 0.68\n",
      "Similairy btw policeman and avg vector is 0.80\n",
      "Similairy btw fireman and avg vector is 0.77\n",
      "Similairy btw teacher and avg vector is 0.61\n",
      "Similairy btw postman and avg vector is 0.75\n",
      "(300,)\n",
      "Similairy btw plane and avg vector is 0.66\n",
      "Similairy btw bird and avg vector is 0.67\n",
      "Similairy btw rocket and avg vector is 0.59\n",
      "Similairy btw balloon and avg vector is 0.68\n",
      "Similairy btw cat and avg vector is 0.58\n",
      "(300,)\n",
      "Similairy btw onion and avg vector is 0.83\n",
      "Similairy btw celery and avg vector is 0.84\n",
      "Similairy btw lettuce and avg vector is 0.83\n",
      "Similairy btw pineapple and avg vector is 0.77\n",
      "Similairy btw potato and avg vector is 0.82\n",
      "(300,)\n",
      "Similairy btw India and avg vector is 0.41\n",
      "Similairy btw football and avg vector is 0.70\n",
      "Similairy btw hockey and avg vector is 0.76\n",
      "Similairy btw cricket and avg vector is 0.80\n",
      "Similairy btw swimming and avg vector is 0.57\n",
      "(300,)\n",
      "Similairy btw who and avg vector is 0.54\n",
      "Similairy btw why and avg vector is 0.81\n",
      "Similairy btw what and avg vector is 0.79\n",
      "Similairy btw where and avg vector is 0.67\n",
      "Similairy btw is and avg vector is 0.47\n",
      "(300,)\n",
      "Similairy btw on and avg vector is 0.66\n",
      "Similairy btw in and avg vector is 0.72\n",
      "Similairy btw over and avg vector is 0.64\n",
      "Similairy btw their and avg vector is 0.60\n",
      "Similairy btw was and avg vector is 0.54\n",
      "(300,)\n",
      "Similairy btw India and avg vector is 0.79\n",
      "Similairy btw Australia and avg vector is 0.71\n",
      "Similairy btw Japan and avg vector is 0.79\n",
      "Similairy btw Russia and avg vector is 0.74\n",
      "Similairy btw China and avg vector is 0.82\n",
      "(300,)\n",
      "Similairy btw Dollar and avg vector is 0.69\n",
      "Similairy btw Rupees and avg vector is 0.72\n",
      "Similairy btw Euros and avg vector is 0.62\n",
      "Similairy btw Cents and avg vector is 0.66\n",
      "Similairy btw Money and avg vector is 0.55\n",
      "(300,)\n",
      "Similairy btw eat and avg vector is 0.76\n",
      "Similairy btw sleep and avg vector is 0.69\n",
      "Similairy btw drink and avg vector is 0.73\n",
      "Similairy btw think and avg vector is 0.48\n",
      "Similairy btw dance and avg vector is 0.55\n",
      "(300,)\n",
      "Similairy btw car and avg vector is 0.77\n",
      "Similairy btw scooter and avg vector is 0.87\n",
      "Similairy btw bike and avg vector is 0.88\n",
      "Similairy btw bicycle and avg vector is 0.86\n",
      "Similairy btw ship and avg vector is 0.39\n",
      "(300,)\n",
      "Similairy btw Poland and avg vector is 0.80\n",
      "Similairy btw Russia and avg vector is 0.82\n",
      "Similairy btw England and avg vector is 0.57\n",
      "Similairy btw Rome and avg vector is 0.54\n",
      "Similairy btw Ukraine and avg vector is 0.83\n",
      "(300,)\n",
      "Similairy btw Lake and avg vector is 0.76\n",
      "Similairy btw Sea and avg vector is 0.60\n",
      "Similairy btw River and avg vector is 0.75\n",
      "Similairy btw Pool and avg vector is 0.54\n",
      "Similairy btw Pond and avg vector is 0.73\n",
      "(300,)\n",
      "Similairy btw Sun and avg vector is 0.71\n",
      "Similairy btw Moon and avg vector is 0.70\n",
      "Similairy btw Star and avg vector is 0.59\n",
      "Similairy btw Mars and avg vector is 0.65\n",
      "Similairy btw Egypt and avg vector is 0.41\n",
      "(300,)\n",
      "Similairy btw fox and avg vector is 0.80\n",
      "Similairy btw wolf and avg vector is 0.79\n",
      "Similairy btw jackal and avg vector is 0.69\n",
      "Similairy btw mouse and avg vector is 0.58\n",
      "Similairy btw panther and avg vector is 0.76\n",
      "(300,)\n",
      "Similairy btw veil and avg vector is 0.71\n",
      "Similairy btw turban and avg vector is 0.76\n",
      "Similairy btw helmet and avg vector is 0.69\n",
      "Similairy btw shirt and avg vector is 0.70\n",
      "Similairy btw hat and avg vector is 0.73\n",
      "(300,)\n",
      "Similairy btw Physics and avg vector is 0.83\n",
      "Similairy btw Chemistry and avg vector is 0.77\n",
      "Similairy btw Geography and avg vector is 0.73\n",
      "Similairy btw Botany and avg vector is 0.66\n",
      "Similairy btw Universe and avg vector is 0.57\n",
      "(300,)\n",
      "Similairy btw Assassinate and avg vector is 0.69\n",
      "Similairy btw Kill and avg vector is 0.68\n",
      "Similairy btw Kidnap and avg vector is 0.74\n",
      "Similairy btw Stab and avg vector is 0.70\n",
      "Similairy btw Murder and avg vector is 0.74\n",
      "(300,)\n",
      "Similairy btw Hostel and avg vector is 0.63\n",
      "Similairy btw Hotel and avg vector is 0.82\n",
      "Similairy btw Inn and avg vector is 0.86\n",
      "Similairy btw Club and avg vector is 0.58\n",
      "Similairy btw Motel and avg vector is 0.81\n",
      "(300,)\n",
      "Similairy btw Earth and avg vector is 0.74\n",
      "Similairy btw Mars and avg vector is 0.78\n",
      "Similairy btw Neptune and avg vector is 0.67\n",
      "Similairy btw Pluto and avg vector is 0.75\n",
      "Similairy btw Sun and avg vector is 0.54\n",
      "['snake', 'teacher', 'cat', 'pineapple', 'India', 'is', 'was', 'Australia', 'Money', 'think', 'ship', 'Rome', 'Pool', 'Egypt', 'mouse', 'helmet', 'Universe', 'Kill', 'Club', 'Sun']\n"
     ]
    }
   ],
   "source": [
    "ans = []\n",
    "\n",
    "for item in lst:\n",
    "    ans.append(odd_one_out(item))\n",
    "\n",
    "print(ans)"
   ]
  },
  {
   "cell_type": "code",
   "execution_count": 37,
   "metadata": {},
   "outputs": [],
   "source": [
    "ans_dfa = pd.DataFrame({\"Odd One\" : ans})"
   ]
  },
  {
   "cell_type": "code",
   "execution_count": 38,
   "metadata": {},
   "outputs": [
    {
     "data": {
      "text/html": [
       "<div>\n",
       "<style scoped>\n",
       "    .dataframe tbody tr th:only-of-type {\n",
       "        vertical-align: middle;\n",
       "    }\n",
       "\n",
       "    .dataframe tbody tr th {\n",
       "        vertical-align: top;\n",
       "    }\n",
       "\n",
       "    .dataframe thead th {\n",
       "        text-align: right;\n",
       "    }\n",
       "</style>\n",
       "<table border=\"1\" class=\"dataframe\">\n",
       "  <thead>\n",
       "    <tr style=\"text-align: right;\">\n",
       "      <th></th>\n",
       "      <th>Odd One</th>\n",
       "    </tr>\n",
       "  </thead>\n",
       "  <tbody>\n",
       "    <tr>\n",
       "      <th>0</th>\n",
       "      <td>snake</td>\n",
       "    </tr>\n",
       "    <tr>\n",
       "      <th>1</th>\n",
       "      <td>teacher</td>\n",
       "    </tr>\n",
       "    <tr>\n",
       "      <th>2</th>\n",
       "      <td>cat</td>\n",
       "    </tr>\n",
       "    <tr>\n",
       "      <th>3</th>\n",
       "      <td>pineapple</td>\n",
       "    </tr>\n",
       "    <tr>\n",
       "      <th>4</th>\n",
       "      <td>India</td>\n",
       "    </tr>\n",
       "    <tr>\n",
       "      <th>5</th>\n",
       "      <td>is</td>\n",
       "    </tr>\n",
       "    <tr>\n",
       "      <th>6</th>\n",
       "      <td>was</td>\n",
       "    </tr>\n",
       "    <tr>\n",
       "      <th>7</th>\n",
       "      <td>Australia</td>\n",
       "    </tr>\n",
       "    <tr>\n",
       "      <th>8</th>\n",
       "      <td>Money</td>\n",
       "    </tr>\n",
       "    <tr>\n",
       "      <th>9</th>\n",
       "      <td>think</td>\n",
       "    </tr>\n",
       "    <tr>\n",
       "      <th>10</th>\n",
       "      <td>ship</td>\n",
       "    </tr>\n",
       "    <tr>\n",
       "      <th>11</th>\n",
       "      <td>Rome</td>\n",
       "    </tr>\n",
       "    <tr>\n",
       "      <th>12</th>\n",
       "      <td>Pool</td>\n",
       "    </tr>\n",
       "    <tr>\n",
       "      <th>13</th>\n",
       "      <td>Egypt</td>\n",
       "    </tr>\n",
       "    <tr>\n",
       "      <th>14</th>\n",
       "      <td>mouse</td>\n",
       "    </tr>\n",
       "    <tr>\n",
       "      <th>15</th>\n",
       "      <td>helmet</td>\n",
       "    </tr>\n",
       "    <tr>\n",
       "      <th>16</th>\n",
       "      <td>Universe</td>\n",
       "    </tr>\n",
       "    <tr>\n",
       "      <th>17</th>\n",
       "      <td>Kill</td>\n",
       "    </tr>\n",
       "    <tr>\n",
       "      <th>18</th>\n",
       "      <td>Club</td>\n",
       "    </tr>\n",
       "    <tr>\n",
       "      <th>19</th>\n",
       "      <td>Sun</td>\n",
       "    </tr>\n",
       "  </tbody>\n",
       "</table>\n",
       "</div>"
      ],
      "text/plain": [
       "      Odd One\n",
       "0       snake\n",
       "1     teacher\n",
       "2         cat\n",
       "3   pineapple\n",
       "4       India\n",
       "5          is\n",
       "6         was\n",
       "7   Australia\n",
       "8       Money\n",
       "9       think\n",
       "10       ship\n",
       "11       Rome\n",
       "12       Pool\n",
       "13      Egypt\n",
       "14      mouse\n",
       "15     helmet\n",
       "16   Universe\n",
       "17       Kill\n",
       "18       Club\n",
       "19        Sun"
      ]
     },
     "execution_count": 38,
     "metadata": {},
     "output_type": "execute_result"
    }
   ],
   "source": [
    "ans_dfa"
   ]
  },
  {
   "cell_type": "code",
   "execution_count": 40,
   "metadata": {},
   "outputs": [],
   "source": [
    "ans_dfa.to_csv('ans.csv',index = False)"
   ]
  },
  {
   "cell_type": "code",
   "execution_count": null,
   "metadata": {},
   "outputs": [],
   "source": [
    "df= pd.read_csv(\"./ans.csv\")\n",
    "df"
   ]
  }
 ],
 "metadata": {
  "kernelspec": {
   "display_name": "Python 3",
   "language": "python",
   "name": "python3"
  },
  "language_info": {
   "codemirror_mode": {
    "name": "ipython",
    "version": 3
   },
   "file_extension": ".py",
   "mimetype": "text/x-python",
   "name": "python",
   "nbconvert_exporter": "python",
   "pygments_lexer": "ipython3",
   "version": "3.7.7"
  }
 },
 "nbformat": 4,
 "nbformat_minor": 4
}
